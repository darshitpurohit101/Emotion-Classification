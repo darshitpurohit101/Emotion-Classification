{
 "cells": [
  {
   "cell_type": "code",
   "execution_count": 76,
   "metadata": {},
   "outputs": [],
   "source": [
    "import csv\n",
    "import os\n",
    "from spacy.lang.en import English\n",
    "from collections import Counter\n",
    "from torchtext.vocab import GloVe\n",
    "from torchtext.vocab import Vocab"
   ]
  },
  {
   "cell_type": "code",
   "execution_count": 86,
   "metadata": {},
   "outputs": [],
   "source": [
    "main_dir = \"A:\\AML project\\Emotion-Classification\\Text modality\\csv files\"\n",
    "processed_data = []\n",
    "data = []"
   ]
  },
  {
   "cell_type": "code",
   "execution_count": 87,
   "metadata": {},
   "outputs": [],
   "source": [
    "for dir in os.listdir(main_dir):\n",
    "    sub_path = os.path.join(main_dir,dir)\n",
    "    for file in os.listdir(sub_path):\n",
    "        file_path = os.path.join(sub_path,file)\n",
    "        with open(file_path) as f:\n",
    "            reader = csv.DictReader(f)\n",
    "            for rows in reader:\n",
    "                data.append((rows['Utterances'],rows['Labels'])) \n",
    "                if rows['Labels'] not in ['','xxx']:\n",
    "                    processed_data.append((rows['Labels'],rows['Utterances'])) \n",
    "                    "
   ]
  },
  {
   "cell_type": "code",
   "execution_count": 105,
   "metadata": {},
   "outputs": [],
   "source": [
    "#splitting the data into train and test ratio: 0.8 & 0.2\n",
    "train_size = int(len(processed_data) * 0.8)\n",
    "train_set = processed_data[0:train_size]\n",
    "test_set =  processed_data[train_size:]"
   ]
  },
  {
   "cell_type": "code",
   "execution_count": 119,
   "metadata": {},
   "outputs": [
    {
     "data": {
      "text/plain": [
       "('neu', ' Excuse me.')"
      ]
     },
     "execution_count": 119,
     "metadata": {},
     "output_type": "execute_result"
    }
   ],
   "source": [
    "train_set[0]"
   ]
  },
  {
   "cell_type": "code",
   "execution_count": 115,
   "metadata": {},
   "outputs": [],
   "source": [
    "#one hot encodding the labels\n",
    "labels = ['ang', 'dis', 'exc', 'fea', 'fru', 'hap', 'neu', 'oth', 'sad', 'sur']\n",
    "testing = []\n",
    "for label in range(len(test_set)):\n",
    "    temp = list(train_set[label])\n",
    "    temp[0] = labels.index(train_set[label][0])\n",
    "    testing.append(tuple(temp))"
   ]
  },
  {
   "cell_type": "code",
   "execution_count": 114,
   "metadata": {},
   "outputs": [],
   "source": [
    "import pickle\n",
    "with open(\"train\", \"wb\") as fp:   #Pickling\n",
    "    pickle.dump(training, fp)"
   ]
  },
  {
   "cell_type": "code",
   "execution_count": 116,
   "metadata": {},
   "outputs": [],
   "source": [
    "with open(\"test\", \"wb\") as fp:   #Pickling\n",
    "    pickle.dump(testing, fp)"
   ]
  },
  {
   "cell_type": "code",
   "execution_count": 120,
   "metadata": {},
   "outputs": [],
   "source": [
    "with open(\"train\", \"rb\") as fp:\n",
    "    b = pickle.load(fp)"
   ]
  }
 ],
 "metadata": {
  "kernelspec": {
   "display_name": "Python 3.8.0 64-bit",
   "language": "python",
   "name": "python3"
  },
  "language_info": {
   "codemirror_mode": {
    "name": "ipython",
    "version": 3
   },
   "file_extension": ".py",
   "mimetype": "text/x-python",
   "name": "python",
   "nbconvert_exporter": "python",
   "pygments_lexer": "ipython3",
   "version": "3.8.0"
  },
  "orig_nbformat": 4,
  "vscode": {
   "interpreter": {
    "hash": "ff20d5331fd35dbf5178a8532d1d9887eb0d16b2378ff600dddbc0bd617f4bac"
   }
  }
 },
 "nbformat": 4,
 "nbformat_minor": 2
}
