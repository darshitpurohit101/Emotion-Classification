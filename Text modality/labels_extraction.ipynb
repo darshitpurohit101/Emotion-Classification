{
 "cells": [
  {
   "cell_type": "code",
   "execution_count": 46,
   "metadata": {},
   "outputs": [],
   "source": [
    "import re\n",
    "import pandas as pd\n",
    "import os\n",
    "dataset_annotation_path = r\"A:\\AML project\\dataset\\IEMOCAP\\nas\\database\\IEMOCAP_full_release\\Session1\\dialog\\EmoEvaluation\"\n",
    "dataset_transcription_path = r\"A:\\AML project\\dataset\\IEMOCAP\\nas\\database\\IEMOCAP_full_release\\Session1\\dialog\\transcriptions\""
   ]
  },
  {
   "cell_type": "code",
   "execution_count": 60,
   "metadata": {},
   "outputs": [
    {
     "name": "stdout",
     "output_type": "stream",
     "text": [
      "error\n",
      "error\n",
      "error\n",
      "error\n",
      "error\n",
      "error\n",
      "error\n",
      "error\n",
      "error\n",
      "error\n",
      "error\n",
      "error\n",
      "error\n",
      "error\n",
      "error\n",
      "error\n",
      "error\n",
      "error\n",
      "error\n",
      "error\n",
      "error\n",
      "error\n",
      "error\n",
      "error\n",
      "error\n",
      "error\n",
      "error\n",
      "error\n",
      "error\n",
      "error\n",
      "error\n",
      "error\n",
      "error\n"
     ]
    }
   ],
   "source": [
    "annotation_files = [file for file in os.listdir(dataset_annotation_path) if file.endswith(\".txt\")]\n",
    "'''geting the content of the files as [sentences and labels] and saving them to csv file per every diglouge'''\n",
    "useful_regex = re.compile(r'\\[.+\\]\\n', re.IGNORECASE)\n",
    "for file in annotation_files:\n",
    "    annotation_dict = {}\n",
    "    training_data = []\n",
    "    path = os.path.join(dataset_annotation_path, file)\n",
    "    f = open(path,'r')\n",
    "    content = f.read()\n",
    "    data = re.findall(useful_regex, content)\n",
    "    for line in data[1:]:\n",
    "        d = line.split()\n",
    "        annotation_dict[d[3]] = d[4]\n",
    "    f.close()\n",
    "    #getting the utterance from transcription folder\n",
    "    path = os.path.join(dataset_transcription_path,file)\n",
    "    f = open(path,'r')\n",
    "    content = f.readlines()\n",
    "    for line in content:\n",
    "        line = line.split(\":\")\n",
    "        U_id = line[0].split()\n",
    "        try:\n",
    "            training_data.append([U_id[0],line[1].strip('\\n'),annotation_dict[U_id[0]]])\n",
    "        except:\n",
    "            # training_data.append([U_id[0],line[1].strip('\\n'),\"\"])\n",
    "            print(\"error\")\n",
    "    #create df for training data and save it as csv\n",
    "    df = pd.DataFrame(training_data,columns=[\"Uid\",\"Utterances\",\"Labels\"])\n",
    "    file = file.strip(\".txt\")\n",
    "    df.to_csv(file+\".csv\",index=False)"
   ]
  }
 ],
 "metadata": {
  "interpreter": {
   "hash": "ff20d5331fd35dbf5178a8532d1d9887eb0d16b2378ff600dddbc0bd617f4bac"
  },
  "kernelspec": {
   "display_name": "Python 3.8.0 64-bit",
   "language": "python",
   "name": "python3"
  },
  "language_info": {
   "codemirror_mode": {
    "name": "ipython",
    "version": 3
   },
   "file_extension": ".py",
   "mimetype": "text/x-python",
   "name": "python",
   "nbconvert_exporter": "python",
   "pygments_lexer": "ipython3",
   "version": "3.8.0"
  },
  "orig_nbformat": 4
 },
 "nbformat": 4,
 "nbformat_minor": 2
}
