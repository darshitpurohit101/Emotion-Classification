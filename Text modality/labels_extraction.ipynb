{
 "cells": [
  {
   "cell_type": "code",
   "execution_count": 3,
   "metadata": {},
   "outputs": [],
   "source": [
    "import re\n",
    "import os\n",
    "dataset_path = r\"A:\\AML project\\dataset\\IEMOCAP\\nas\\database\\IEMOCAP_full_release\\Session1\\dialog\\EmoEvaluation\""
   ]
  },
  {
   "cell_type": "code",
   "execution_count": 5,
   "metadata": {},
   "outputs": [
    {
     "name": "stdout",
     "output_type": "stream",
     "text": [
      "['Ses01F_impro01.txt', 'Ses01F_impro02.txt', 'Ses01F_impro03.txt', 'Ses01F_impro04.txt', 'Ses01F_impro05.txt', 'Ses01F_impro06.txt', 'Ses01F_impro07.txt', 'Ses01F_script01_1.txt', 'Ses01F_script01_2.txt', 'Ses01F_script01_3.txt', 'Ses01F_script02_1.txt', 'Ses01F_script02_2.txt', 'Ses01F_script03_1.txt', 'Ses01F_script03_2.txt', 'Ses01M_impro01.txt', 'Ses01M_impro02.txt', 'Ses01M_impro03.txt', 'Ses01M_impro04.txt', 'Ses01M_impro05.txt', 'Ses01M_impro06.txt', 'Ses01M_impro07.txt', 'Ses01M_script01_1.txt', 'Ses01M_script01_2.txt', 'Ses01M_script01_3.txt', 'Ses01M_script02_1.txt', 'Ses01M_script02_2.txt', 'Ses01M_script03_1.txt', 'Ses01M_script03_2.txt']\n"
     ]
    }
   ],
   "source": [
    "annotation_files = [file for file in os.listdir(dataset_path) if file.endswith(\".txt\")]"
   ]
  }
 ],
 "metadata": {
  "interpreter": {
   "hash": "ff20d5331fd35dbf5178a8532d1d9887eb0d16b2378ff600dddbc0bd617f4bac"
  },
  "kernelspec": {
   "display_name": "Python 3.8.0 64-bit",
   "language": "python",
   "name": "python3"
  },
  "language_info": {
   "codemirror_mode": {
    "name": "ipython",
    "version": 3
   },
   "file_extension": ".py",
   "mimetype": "text/x-python",
   "name": "python",
   "nbconvert_exporter": "python",
   "pygments_lexer": "ipython3",
   "version": "3.8.0"
  },
  "orig_nbformat": 4
 },
 "nbformat": 4,
 "nbformat_minor": 2
}
