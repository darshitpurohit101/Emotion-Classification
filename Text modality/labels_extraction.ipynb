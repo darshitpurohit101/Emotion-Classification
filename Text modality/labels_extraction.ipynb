{
 "cells": [
  {
   "cell_type": "code",
   "execution_count": 15,
   "metadata": {},
   "outputs": [],
   "source": [
    "import re\n",
    "import pandas as pd\n",
    "import os\n",
    "dataset_dir = r\"A:\\AML project\\dataset\\IEMOCAP\\nas\\database\\IEMOCAP_full_release\"\n",
    "dataset_annotation_path = r\"dialog\\EmoEvaluation\"\n",
    "dataset_transcription_path = r\"dialog\\transcriptions\"\n",
    "sessions = ['Session1','Session2','Session3','Session4','Session5']"
   ]
  },
  {
   "cell_type": "code",
   "execution_count": 16,
   "metadata": {},
   "outputs": [],
   "source": [
    "for ses in sessions:\n",
    "    annotation_path = dataset_dir+'\\\\'+ses+'\\\\'+dataset_annotation_path\n",
    "    transcription_path = dataset_dir+'\\\\'+ses+'\\\\'+dataset_transcription_path\n",
    "    annotation_files = [file for file in os.listdir(annotation_path) if file.endswith(\".txt\")]\n",
    "    save_path = r\"A:\\AML project\\Emotion-Classification\\Text modality\\csv files\\\\\"+ses\n",
    "    try:\n",
    "        os.mkdir(save_path)\n",
    "    except:\n",
    "        os.rmdir(save_path)\n",
    "        os.mkdir(save_path)\n",
    "    '''geting the content of the files as [sentences and labels] and saving them to csv file per every diglouge'''\n",
    "    useful_regex = re.compile(r'\\[.+\\]\\n', re.IGNORECASE)\n",
    "    for file in annotation_files:\n",
    "        annotation_dict = {}\n",
    "        training_data = []\n",
    "        path = os.path.join(annotation_path, file)\n",
    "        f = open(path,'r')\n",
    "        content = f.read()\n",
    "        data = re.findall(useful_regex, content)\n",
    "        for line in data[1:]:\n",
    "            d = line.split()\n",
    "            annotation_dict[d[3]] = d[4]\n",
    "        f.close()\n",
    "        #getting the utterance from transcription folder\n",
    "        path = os.path.join(transcription_path,file)\n",
    "        f = open(path,'r')\n",
    "        content = f.readlines()\n",
    "        for line in content:\n",
    "            line = line.split(\":\")\n",
    "            U_id = line[0].split()\n",
    "            try:\n",
    "                training_data.append([U_id[0],line[1].strip('\\n'),annotation_dict[U_id[0]]])\n",
    "            except:\n",
    "                training_data.append([U_id[0],line[1].strip('\\n'),\"\"])\n",
    "        #create df for training data and save it as csv\n",
    "        df = pd.DataFrame(training_data,columns=[\"Uid\",\"Utterances\",\"Labels\"])\n",
    "        file = file.split('.')\n",
    "        df.to_csv(save_path+\"\\\\\"+file[0]+\".csv\",index=False)"
   ]
  }
 ],
 "metadata": {
  "interpreter": {
   "hash": "ff20d5331fd35dbf5178a8532d1d9887eb0d16b2378ff600dddbc0bd617f4bac"
  },
  "kernelspec": {
   "display_name": "Python 3.8.0 64-bit",
   "language": "python",
   "name": "python3"
  },
  "language_info": {
   "codemirror_mode": {
    "name": "ipython",
    "version": 3
   },
   "file_extension": ".py",
   "mimetype": "text/x-python",
   "name": "python",
   "nbconvert_exporter": "python",
   "pygments_lexer": "ipython3",
   "version": "3.8.0"
  },
  "orig_nbformat": 4
 },
 "nbformat": 4,
 "nbformat_minor": 2
}
